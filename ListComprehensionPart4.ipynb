{
 "cells": [
  {
   "cell_type": "markdown",
   "id": "33b75954",
   "metadata": {},
   "source": [
    "<font size=\"5\" color='blue'>\n",
    "List Comprehension - Part 4\n",
    "</font>`"
   ]
  },
  {
   "cell_type": "code",
   "execution_count": 3,
   "id": "2a8d7329",
   "metadata": {},
   "outputs": [],
   "source": [
    "#  <expression> for <element> in <iterable> if <condition>"
   ]
  },
  {
   "cell_type": "code",
   "execution_count": 4,
   "id": "213c9551",
   "metadata": {},
   "outputs": [
    {
     "data": {
      "text/plain": [
       "[1, 2, 3, 4, 5, 6, 7, 8, 9, 10]"
      ]
     },
     "execution_count": 4,
     "metadata": {},
     "output_type": "execute_result"
    }
   ],
   "source": [
    "[ i for i in range(1,11)]"
   ]
  },
  {
   "cell_type": "code",
   "execution_count": null,
   "id": "3cfafb67",
   "metadata": {},
   "outputs": [],
   "source": [
    "'''\n",
    "1.  for <element> in <iterable> \n",
    "2.  <expression> \n",
    "3.  if <condition>\n",
    "\n",
    "if we have a filter condition, then the order of execution will be as follows :\n",
    "\n",
    "1.  for <element> in <iterable> \n",
    "2.  if <condition>\n",
    "3.  <expression> \n",
    "\n",
    "'''"
   ]
  },
  {
   "cell_type": "code",
   "execution_count": 5,
   "id": "e2869aa5",
   "metadata": {},
   "outputs": [
    {
     "data": {
      "text/plain": [
       "[1, 2, 3, 4, 5, 6, 7, 8]"
      ]
     },
     "execution_count": 5,
     "metadata": {},
     "output_type": "execute_result"
    }
   ],
   "source": [
    "[ i for i in range(1,11) if i<=8]   # 1 T, 2 T, 3 T, 4 T, 5 T, 6 T, 7 T, 8 T, 9 F, 10 F"
   ]
  },
  {
   "cell_type": "code",
   "execution_count": 6,
   "id": "1d07f94c",
   "metadata": {},
   "outputs": [
    {
     "data": {
      "text/plain": [
       "[(1, 'odd'),\n",
       " (2, 'even'),\n",
       " (3, 'odd'),\n",
       " (4, 'even'),\n",
       " (5, 'odd'),\n",
       " (6, 'even'),\n",
       " (7, 'odd'),\n",
       " (8, 'even')]"
      ]
     },
     "execution_count": 6,
     "metadata": {},
     "output_type": "execute_result"
    }
   ],
   "source": [
    "[  (i, 'even') if i%2 == 0 else (i, 'odd') for i in range(1,11) if i<=8] "
   ]
  },
  {
   "cell_type": "code",
   "execution_count": 7,
   "id": "5ed03374",
   "metadata": {},
   "outputs": [
    {
     "ename": "SyntaxError",
     "evalue": "expected 'else' after 'if' expression (3190668145.py, line 1)",
     "output_type": "error",
     "traceback": [
      "\u001b[1;36m  Input \u001b[1;32mIn [7]\u001b[1;36m\u001b[0m\n\u001b[1;33m    [  (i, 'even') if i%2 == 0  for i in range(1,11) if i<=8]\u001b[0m\n\u001b[1;37m       ^\u001b[0m\n\u001b[1;31mSyntaxError\u001b[0m\u001b[1;31m:\u001b[0m expected 'else' after 'if' expression\n"
     ]
    }
   ],
   "source": [
    "[  (i, 'even') if i%2 == 0  for i in range(1,11) if i<=8] "
   ]
  },
  {
   "cell_type": "code",
   "execution_count": null,
   "id": "7d1a56b0",
   "metadata": {},
   "outputs": [],
   "source": [
    "'''\n",
    "1.  generate 1 to 10 \n",
    "2.  consider only even numbers\n",
    "3.  for 2 and 4, generate tables\n",
    "4.  dump the number as a single dimensional list     # [6], [8], [10]\n",
    "'''"
   ]
  },
  {
   "cell_type": "code",
   "execution_count": 16,
   "id": "032896a3",
   "metadata": {},
   "outputs": [
    {
     "data": {
      "text/plain": [
       "[[2, 4, 6, 8, 10, 12, 14, 16, 18, 20],\n",
       " [4, 8, 12, 16, 20, 24, 28, 32, 36, 40],\n",
       " [6],\n",
       " [8],\n",
       " [10]]"
      ]
     },
     "execution_count": 16,
     "metadata": {},
     "output_type": "execute_result"
    }
   ],
   "source": [
    "[  [ i*t  for t in range(1,11) ]  if i == 2 or i == 4 else [i]   for i in range(1,11) if i%2 == 0] "
   ]
  },
  {
   "cell_type": "code",
   "execution_count": 9,
   "id": "698b95f8",
   "metadata": {},
   "outputs": [],
   "source": [
    "table = []\n",
    "for i in range(1,11) : \n",
    "    if i%2 == 0 :\n",
    "        if i == 2 or i == 4 :\n",
    "            table.append([ i*t  for t in range(1,11)])\n",
    "        else :\n",
    "            table.append([i])"
   ]
  },
  {
   "cell_type": "code",
   "execution_count": 10,
   "id": "5c58ca11",
   "metadata": {},
   "outputs": [
    {
     "data": {
      "text/plain": [
       "[[2, 4, 6, 8, 10, 12, 14, 16, 18, 20],\n",
       " [4, 8, 12, 16, 20, 24, 28, 32, 36, 40],\n",
       " [6],\n",
       " [8],\n",
       " [10]]"
      ]
     },
     "execution_count": 10,
     "metadata": {},
     "output_type": "execute_result"
    }
   ],
   "source": [
    "table"
   ]
  },
  {
   "cell_type": "code",
   "execution_count": null,
   "id": "18c01eaf",
   "metadata": {},
   "outputs": [],
   "source": []
  }
 ],
 "metadata": {
  "kernelspec": {
   "display_name": "Python 3 (ipykernel)",
   "language": "python",
   "name": "python3"
  },
  "language_info": {
   "codemirror_mode": {
    "name": "ipython",
    "version": 3
   },
   "file_extension": ".py",
   "mimetype": "text/x-python",
   "name": "python",
   "nbconvert_exporter": "python",
   "pygments_lexer": "ipython3",
   "version": "3.10.2"
  }
 },
 "nbformat": 4,
 "nbformat_minor": 5
}
